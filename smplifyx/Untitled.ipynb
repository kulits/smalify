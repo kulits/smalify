{
 "cells": [
  {
   "cell_type": "code",
   "execution_count": 1,
   "metadata": {},
   "outputs": [],
   "source": [
    "from __future__ import absolute_import\n",
    "from __future__ import print_function\n",
    "from __future__ import division\n",
    "\n",
    "import sys\n",
    "import os\n",
    "\n",
    "import os.path as osp\n",
    "\n",
    "import time\n",
    "import yaml\n",
    "import torch\n",
    "\n",
    "import smplx\n",
    "\n",
    "from utils import JointMapper\n",
    "from cmd_parser import parse_config\n",
    "from data_parser import create_dataset\n",
    "from fit_single_frame import fit_single_frame\n",
    "\n",
    "from camera import create_camera\n",
    "from prior import create_prior\n",
    "\n",
    "torch.backends.cudnn.enabled = False"
   ]
  },
  {
   "cell_type": "code",
   "execution_count": 6,
   "metadata": {},
   "outputs": [
    {
     "name": "stdout",
     "output_type": "stream",
     "text": [
      "/home/frg08/Code/smplify-x/smplifyx\r\n"
     ]
    }
   ],
   "source": [
    "!pwd"
   ]
  },
  {
   "cell_type": "code",
   "execution_count": 5,
   "metadata": {},
   "outputs": [
    {
     "ename": "FileNotFoundError",
     "evalue": "[Errno 2] No such file or directory: 'data/images'",
     "output_type": "error",
     "traceback": [
      "\u001b[0;31m---------------------------------------------------------------------------\u001b[0m",
      "\u001b[0;31mFileNotFoundError\u001b[0m                         Traceback (most recent call last)",
      "\u001b[0;32m<ipython-input-5-3fba2e59a6e6>\u001b[0m in \u001b[0;36m<module>\u001b[0;34m\u001b[0m\n\u001b[1;32m     61\u001b[0m \u001b[0;34m\u001b[0m\u001b[0m\n\u001b[1;32m     62\u001b[0m \u001b[0mimg_folder\u001b[0m \u001b[0;34m=\u001b[0m \u001b[0margs\u001b[0m\u001b[0;34m.\u001b[0m\u001b[0mpop\u001b[0m\u001b[0;34m(\u001b[0m\u001b[0;34m'img_folder'\u001b[0m\u001b[0;34m,\u001b[0m \u001b[0;34m'images'\u001b[0m\u001b[0;34m)\u001b[0m\u001b[0;34m\u001b[0m\u001b[0;34m\u001b[0m\u001b[0m\n\u001b[0;32m---> 63\u001b[0;31m \u001b[0mdataset_obj\u001b[0m \u001b[0;34m=\u001b[0m \u001b[0mcreate_dataset\u001b[0m\u001b[0;34m(\u001b[0m\u001b[0mimg_folder\u001b[0m\u001b[0;34m=\u001b[0m\u001b[0mimg_folder\u001b[0m\u001b[0;34m,\u001b[0m \u001b[0;34m**\u001b[0m\u001b[0margs\u001b[0m\u001b[0;34m)\u001b[0m\u001b[0;34m\u001b[0m\u001b[0;34m\u001b[0m\u001b[0m\n\u001b[0m\u001b[1;32m     64\u001b[0m \u001b[0;34m\u001b[0m\u001b[0m\n\u001b[1;32m     65\u001b[0m \u001b[0mstart\u001b[0m \u001b[0;34m=\u001b[0m \u001b[0mtime\u001b[0m\u001b[0;34m.\u001b[0m\u001b[0mtime\u001b[0m\u001b[0;34m(\u001b[0m\u001b[0;34m)\u001b[0m\u001b[0;34m\u001b[0m\u001b[0;34m\u001b[0m\u001b[0m\n",
      "\u001b[0;32m~/Code/smplify-x/smplifyx/data_parser.py\u001b[0m in \u001b[0;36mcreate_dataset\u001b[0;34m(dataset, data_folder, **kwargs)\u001b[0m\n\u001b[1;32m     45\u001b[0m \u001b[0;32mdef\u001b[0m \u001b[0mcreate_dataset\u001b[0m\u001b[0;34m(\u001b[0m\u001b[0mdataset\u001b[0m\u001b[0;34m=\u001b[0m\u001b[0;34m'openpose'\u001b[0m\u001b[0;34m,\u001b[0m \u001b[0mdata_folder\u001b[0m\u001b[0;34m=\u001b[0m\u001b[0;34m'data'\u001b[0m\u001b[0;34m,\u001b[0m \u001b[0;34m**\u001b[0m\u001b[0mkwargs\u001b[0m\u001b[0;34m)\u001b[0m\u001b[0;34m:\u001b[0m\u001b[0;34m\u001b[0m\u001b[0;34m\u001b[0m\u001b[0m\n\u001b[1;32m     46\u001b[0m     \u001b[0;32mif\u001b[0m \u001b[0mdataset\u001b[0m\u001b[0;34m.\u001b[0m\u001b[0mlower\u001b[0m\u001b[0;34m(\u001b[0m\u001b[0;34m)\u001b[0m \u001b[0;34m==\u001b[0m \u001b[0;34m'openpose'\u001b[0m\u001b[0;34m:\u001b[0m\u001b[0;34m\u001b[0m\u001b[0;34m\u001b[0m\u001b[0m\n\u001b[0;32m---> 47\u001b[0;31m         \u001b[0;32mreturn\u001b[0m \u001b[0mOpenPose\u001b[0m\u001b[0;34m(\u001b[0m\u001b[0mdata_folder\u001b[0m\u001b[0;34m,\u001b[0m \u001b[0;34m**\u001b[0m\u001b[0mkwargs\u001b[0m\u001b[0;34m)\u001b[0m\u001b[0;34m\u001b[0m\u001b[0;34m\u001b[0m\u001b[0m\n\u001b[0m\u001b[1;32m     48\u001b[0m     \u001b[0;32melse\u001b[0m\u001b[0;34m:\u001b[0m\u001b[0;34m\u001b[0m\u001b[0;34m\u001b[0m\u001b[0m\n\u001b[1;32m     49\u001b[0m         \u001b[0;32mraise\u001b[0m \u001b[0mValueError\u001b[0m\u001b[0;34m(\u001b[0m\u001b[0;34m'Unknown dataset: {}'\u001b[0m\u001b[0;34m.\u001b[0m\u001b[0mformat\u001b[0m\u001b[0;34m(\u001b[0m\u001b[0mdataset\u001b[0m\u001b[0;34m)\u001b[0m\u001b[0;34m)\u001b[0m\u001b[0;34m\u001b[0m\u001b[0;34m\u001b[0m\u001b[0m\n",
      "\u001b[0;32m~/Code/smplify-x/smplifyx/data_parser.py\u001b[0m in \u001b[0;36m__init__\u001b[0;34m(self, data_folder, img_folder, keyp_folder, use_hands, use_face, dtype, model_type, joints_to_ign, use_face_contour, openpose_format, **kwargs)\u001b[0m\n\u001b[1;32m    134\u001b[0m \u001b[0;34m\u001b[0m\u001b[0m\n\u001b[1;32m    135\u001b[0m         self.img_paths = [osp.join(self.img_folder, img_fn)\n\u001b[0;32m--> 136\u001b[0;31m                           \u001b[0;32mfor\u001b[0m \u001b[0mimg_fn\u001b[0m \u001b[0;32min\u001b[0m \u001b[0mos\u001b[0m\u001b[0;34m.\u001b[0m\u001b[0mlistdir\u001b[0m\u001b[0;34m(\u001b[0m\u001b[0mself\u001b[0m\u001b[0;34m.\u001b[0m\u001b[0mimg_folder\u001b[0m\u001b[0;34m)\u001b[0m\u001b[0;34m\u001b[0m\u001b[0;34m\u001b[0m\u001b[0m\n\u001b[0m\u001b[1;32m    137\u001b[0m                           \u001b[0;32mif\u001b[0m \u001b[0mimg_fn\u001b[0m\u001b[0;34m.\u001b[0m\u001b[0mendswith\u001b[0m\u001b[0;34m(\u001b[0m\u001b[0;34m'.png'\u001b[0m\u001b[0;34m)\u001b[0m \u001b[0;32mor\u001b[0m\u001b[0;34m\u001b[0m\u001b[0;34m\u001b[0m\u001b[0m\n\u001b[1;32m    138\u001b[0m                           \u001b[0mimg_fn\u001b[0m\u001b[0;34m.\u001b[0m\u001b[0mendswith\u001b[0m\u001b[0;34m(\u001b[0m\u001b[0;34m'.jpg'\u001b[0m\u001b[0;34m)\u001b[0m \u001b[0;32mand\u001b[0m\u001b[0;34m\u001b[0m\u001b[0;34m\u001b[0m\u001b[0m\n",
      "\u001b[0;31mFileNotFoundError\u001b[0m: [Errno 2] No such file or directory: 'data/images'"
     ]
    }
   ],
   "source": [
    "args = {'data_folder': 'data', 'max_persons': 3, 'config': 'cfg_files/fit_smpl.yaml', 'loss_type': 'smplify', \n",
    "        'interactive': True, 'save_meshes': True, 'visualize': True, 'degrees': [0, 90, 180, 270], \n",
    "        'use_cuda': True, 'dataset': 'openpose', 'joints_to_ign': [1, 9, 12], 'output_folder': 'output', \n",
    "        'img_folder': 'images', 'keyp_folder': 'keypoints', 'summary_folder': 'summaries', \n",
    "        'result_folder': 'results', 'mesh_folder': 'meshes', 'gender_lbl_type': 'none', 'gender': 'neutral', \n",
    "        'float_dtype': 'float32', 'model_type': 'smpl', 'camera_type': 'persp', 'optim_jaw': True, \n",
    "        'optim_hands': True, 'optim_expression': True, 'optim_shape': True, \n",
    "        'model_folder': '/home/frg08/Code/smplify-x/smpl/models/smpl_female.pkl', 'use_joints_conf': True, \n",
    "        'batch_size': 1, 'num_gaussians': 8, 'use_pca': True, 'num_pca_comps': 12, 'flat_hand_mean': False, \n",
    "        'body_prior_type': 'l2', 'left_hand_prior_type': 'l2', 'right_hand_prior_type': 'l2', \n",
    "        'jaw_prior_type': 'l2', 'use_vposer': True, 'vposer_ckpt': '/home/frg08/Code/smplify-x/V02_05/', \n",
    "        'init_joints_idxs': [9, 12, 2, 5], 'body_tri_idxs': [(5, 12), (2, 9)], 'prior_folder': 'priors', \n",
    "        'focal_length': 5000.0, 'rho': 100.0, 'interpenetration': False, 'penalize_outside': True, \n",
    "        'data_weights': [1.0, 1.0, 1.0, 1.0], 'body_pose_prior_weights': [404.0, 404.0, 57.4, 4.78], \n",
    "        'shape_weights': [100.0, 50.0, 10.0, 5.0], 'expr_weights': [100.0, 50.0, 10.0, 5.0], \n",
    "        'face_joints_weights': [0.0, 0.0, 0.0, 2.0], 'hand_joints_weights': [0.0, 0.0, 0.0, 2.0], \n",
    "        'jaw_pose_prior_weights': None, 'hand_pose_prior_weights': [100.0, 50.0, 10.0, 5.0], \n",
    "        'coll_loss_weights': [0.0, 0.0, 0.01, 1.0], 'depth_loss_weight': 100.0, 'df_cone_height': 0.0001, \n",
    "        'max_collisions': 128, 'point2plane': False, 'part_segm_fn': '', \n",
    "        'ign_part_pairs': ['9,16', '9,17', '6,16', '6,17', '1,2', '12,22'], 'use_hands': False, 'use_face': False, \n",
    "        'use_face_contour': False, 'side_view_thsh': 25, 'optim_type': 'lbfgsls', 'lr': 1.0, 'gtol': 1e-09, \n",
    "        'ftol': 1e-09, 'maxiters': 30}\n",
    "\n",
    "output_folder = args.pop('output_folder')\n",
    "output_folder = osp.expandvars(output_folder)\n",
    "if not osp.exists(output_folder):\n",
    "    os.makedirs(output_folder)\n",
    "\n",
    "# Store the arguments for the current experiment\n",
    "conf_fn = osp.join(output_folder, 'conf.yaml')\n",
    "with open(conf_fn, 'w') as conf_file:\n",
    "    yaml.dump(args, conf_file)\n",
    "\n",
    "result_folder = args.pop('result_folder', 'results')\n",
    "result_folder = osp.join(output_folder, result_folder)\n",
    "if not osp.exists(result_folder):\n",
    "    os.makedirs(result_folder)\n",
    "\n",
    "mesh_folder = args.pop('mesh_folder', 'meshes')\n",
    "mesh_folder = osp.join(output_folder, mesh_folder)\n",
    "if not osp.exists(mesh_folder):\n",
    "    os.makedirs(mesh_folder)\n",
    "\n",
    "out_img_folder = osp.join(output_folder, 'images')\n",
    "if not osp.exists(out_img_folder):\n",
    "    os.makedirs(out_img_folder)\n",
    "\n",
    "float_dtype = args['float_dtype']\n",
    "if float_dtype == 'float64':\n",
    "    dtype = torch.float64\n",
    "elif float_dtype == 'float32':\n",
    "    dtype = torch.float64\n",
    "else:\n",
    "    print('Unknown float type {}, exiting!'.format(float_dtype))\n",
    "    sys.exit(-1)\n",
    "\n",
    "use_cuda = args.get('use_cuda', True)\n",
    "if use_cuda and not torch.cuda.is_available():\n",
    "    print('CUDA is not available, exiting!')\n",
    "    sys.exit(-1)\n",
    "\n",
    "img_folder = args.pop('img_folder', 'images')\n",
    "dataset_obj = create_dataset(img_folder=img_folder, **args)\n",
    "\n",
    "start = time.time()\n",
    "\n",
    "input_gender = args.pop('gender', 'neutral')\n",
    "gender_lbl_type = args.pop('gender_lbl_type', 'none')\n",
    "max_persons = args.pop('max_persons', -1)\n",
    "\n",
    "float_dtype = args.get('float_dtype', 'float32')\n",
    "if float_dtype == 'float64':\n",
    "    dtype = torch.float64\n",
    "elif float_dtype == 'float32':\n",
    "    dtype = torch.float32\n",
    "else:\n",
    "    raise ValueError('Unknown float type {}, exiting!'.format(float_dtype))\n",
    "\n",
    "joint_mapper = JointMapper(dataset_obj.get_model2data())"
   ]
  },
  {
   "cell_type": "code",
   "execution_count": 7,
   "metadata": {},
   "outputs": [],
   "source": [
    "focal_length = args.get('focal_length')\n",
    "camera = create_camera(focal_length_x=focal_length,\n",
    "                       focal_length_y=focal_length,\n",
    "                       dtype=dtype,\n",
    "                       **args)"
   ]
  },
  {
   "cell_type": "code",
   "execution_count": 9,
   "metadata": {},
   "outputs": [
    {
     "name": "stdout",
     "output_type": "stream",
     "text": [
      "PerspectiveCamera()\n"
     ]
    }
   ],
   "source": [
    "print(camera)"
   ]
  },
  {
   "cell_type": "code",
   "execution_count": 10,
   "metadata": {},
   "outputs": [
    {
     "data": {
      "text/plain": [
       "tensor([[0., 0.],\n",
       "        [0., 0.],\n",
       "        [0., 0.]], dtype=torch.float64)"
      ]
     },
     "execution_count": 10,
     "metadata": {},
     "output_type": "execute_result"
    }
   ],
   "source": [
    "torch.zeros([3, 2], dtype=dtype)"
   ]
  },
  {
   "cell_type": "code",
   "execution_count": 11,
   "metadata": {},
   "outputs": [
    {
     "data": {
      "text/plain": [
       "tensor([[[1., 0., 0.],\n",
       "         [0., 1., 0.],\n",
       "         [0., 0., 1.]],\n",
       "\n",
       "        [[1., 0., 0.],\n",
       "         [0., 1., 0.],\n",
       "         [0., 0., 1.]],\n",
       "\n",
       "        [[1., 0., 0.],\n",
       "         [0., 1., 0.],\n",
       "         [0., 0., 1.]],\n",
       "\n",
       "        [[1., 0., 0.],\n",
       "         [0., 1., 0.],\n",
       "         [0., 0., 1.]]], dtype=torch.float64)"
      ]
     },
     "execution_count": 11,
     "metadata": {},
     "output_type": "execute_result"
    }
   ],
   "source": [
    "torch.eye(3, dtype=dtype).unsqueeze(dim=0).repeat(4, 1, 1)"
   ]
  },
  {
   "cell_type": "code",
   "execution_count": 14,
   "metadata": {},
   "outputs": [
    {
     "data": {
      "text/plain": [
       "tensor([[1., 0., 0.],\n",
       "        [0., 1., 0.],\n",
       "        [0., 0., 1.]], dtype=torch.float64)"
      ]
     },
     "execution_count": 14,
     "metadata": {},
     "output_type": "execute_result"
    }
   ],
   "source": [
    "torch.eye(3, dtype=dtype)"
   ]
  },
  {
   "cell_type": "code",
   "execution_count": 19,
   "metadata": {},
   "outputs": [
    {
     "data": {
      "text/plain": [
       "tensor([20., 10., 30.])"
      ]
     },
     "execution_count": 19,
     "metadata": {},
     "output_type": "execute_result"
    }
   ],
   "source": [
    "torch.index_select(torch.Tensor([10,20,30]), 0, torch.tensor([1,0,2]))"
   ]
  },
  {
   "cell_type": "code",
   "execution_count": 22,
   "metadata": {},
   "outputs": [
    {
     "data": {
      "text/plain": [
       "[1, 1, 1, 1, 1]"
      ]
     },
     "execution_count": 22,
     "metadata": {},
     "output_type": "execute_result"
    }
   ],
   "source": [
    "[1, ] * 5"
   ]
  },
  {
   "cell_type": "code",
   "execution_count": null,
   "metadata": {},
   "outputs": [],
   "source": [
    "joints_2d, _3d \n",
    " tensor([[[ 553.9140,   91.7751],\n",
    "         [ 553.6980,  206.5970],\n",
    "         [ 453.6500,  200.5350],\n",
    "         [ 386.1690,  347.8400],\n",
    "         [ 444.9110,  456.5590],\n",
    "         [ 653.9280,  221.2060],\n",
    "         [ 739.2170,  338.8270],\n",
    "         [ 692.1270,  456.5860],\n",
    "         [ 512.6100,  494.9150],\n",
    "         [ 450.8240,  480.2410],\n",
    "         [ 306.6270,  633.2980],\n",
    "         [ 244.8870,  859.9170],\n",
    "         [ 577.3600,  506.7720],\n",
    "         [ 577.3970,  753.9320],\n",
    "         [ 580.3100,  951.1510],\n",
    "         [ 533.3210,   77.0282],\n",
    "         [ 577.3280,   79.7950],\n",
    "         [ 506.6860,   85.9202],\n",
    "         [ 600.9330,   94.6972],\n",
    "         [ 595.0250, 1001.1000],\n",
    "         [ 615.6630,  995.2380],\n",
    "         [ 574.3210,  960.0350],\n",
    "         [ 194.6770,  901.1330],\n",
    "         [ 185.9320,  883.5470],\n",
    "         [ 250.6830,  880.5590],\n",
    "         [ 553.9140,   91.7751],\n",
    "         [ 553.6980,  206.5970],\n",
    "         [ 453.6500,  200.5350],\n",
    "         [ 386.1690,  347.8400],\n",
    "         [ 444.9110,  456.5590],\n",
    "         [ 653.9280,  221.2060],\n",
    "         [ 739.2170,  338.8270],\n",
    "         [ 692.1270,  456.5860]]]) \n",
    " tensor([[[-4.5038e-01,  1.0202e-04,  2.5394e-01],\n",
    "         [-4.5038e-01,  1.0202e-04,  2.5394e-01],\n",
    "         [-3.2989e-01,  1.0202e-04,  2.5903e-01],\n",
    "         [-2.2517e-01,  1.0203e-04,  7.7453e-02],\n",
    "         [-8.8651e-02,  1.0203e-04,  5.9314e-02],\n",
    "         [ 3.7028e-02,  1.0203e-04,  5.9569e-02],\n",
    "         [ 1.7218e-01,  1.0203e-04,  2.2672e-01],\n",
    "         [ 3.0644e-01,  1.7191e-01,  1.2355e-01],\n",
    "         [ 3.0661e-01,  1.5211e-01, -7.8142e-02],\n",
    "         [ 3.0426e-01,  1.0705e-01, -3.1296e-01],\n",
    "         [ 3.5514e-01,  1.0823e-01, -4.3810e-01],\n",
    "         [ 3.0644e-01, -1.7171e-01,  1.2355e-01],\n",
    "         [ 3.0661e-01, -1.5191e-01, -7.8142e-02],\n",
    "         [ 3.0426e-01, -1.0685e-01, -3.1296e-01],\n",
    "         [ 3.5514e-01, -1.0802e-01, -4.3810e-01],\n",
    "         [ 4.0271e-01,  1.0202e-04,  2.9802e-01],\n",
    "         [ 6.0081e-01,  1.0203e-04,  2.9027e-01],\n",
    "         [-5.1785e-01,  9.8666e-02,  1.9752e-01],\n",
    "         [-4.3026e-01,  1.2439e-01, -4.6530e-02],\n",
    "         [-4.9236e-01,  1.0782e-01, -3.1861e-01],\n",
    "         [-4.5265e-01,  1.1573e-01, -5.1001e-01],\n",
    "         [-5.1785e-01, -9.8462e-02,  1.9752e-01],\n",
    "         [-4.3026e-01, -1.2418e-01, -4.6530e-02],\n",
    "         [-4.9236e-01, -1.0761e-01, -3.1861e-01],\n",
    "         [-4.5265e-01, -1.1553e-01, -5.1001e-01],\n",
    "         [-5.7836e-01,  1.0203e-04,  1.8290e-01],\n",
    "         [-7.2306e-01,  1.0203e-04,  1.8111e-01],\n",
    "         [-7.9729e-01,  1.0203e-04,  1.8730e-01],\n",
    "         [-9.0279e-01,  1.0203e-04,  1.9364e-01],\n",
    "         [-9.9845e-01,  1.0203e-04,  1.9758e-01],\n",
    "         [-1.0928e+00,  1.0203e-04,  2.1122e-01],\n",
    "         [-1.1275e+00,  1.0203e-04,  2.1015e-01],\n",
    "         [ 7.3855e-01,  1.0202e-04,  1.9284e-01]]]) \n"
   ]
  },
  {
   "cell_type": "code",
   "execution_count": null,
   "metadata": {},
   "outputs": [],
   "source": []
  },
  {
   "cell_type": "code",
   "execution_count": null,
   "metadata": {},
   "outputs": [],
   "source": []
  },
  {
   "cell_type": "code",
   "execution_count": null,
   "metadata": {},
   "outputs": [],
   "source": []
  },
  {
   "cell_type": "code",
   "execution_count": 33,
   "metadata": {},
   "outputs": [],
   "source": [
    "ls = [[0.],\n",
    "         [0.],\n",
    "         [0.],\n",
    "         [0.],\n",
    "         [0.],\n",
    "         [0.],\n",
    "         [0.],\n",
    "         [0.],\n",
    "         [0.],\n",
    "         [0.],\n",
    "         [1.],\n",
    "         [0.],\n",
    "         [0.],\n",
    "         [0.],\n",
    "         [0.],\n",
    "         [0.],\n",
    "         [0.],\n",
    "         [0.],\n",
    "         [0.],\n",
    "         [0.],\n",
    "         [0.],\n",
    "         [0.],\n",
    "         [0.],\n",
    "         [0.],\n",
    "         [0.],\n",
    "         [1.],\n",
    "         [0.],\n",
    "         [0.],\n",
    "         [0.],\n",
    "         [0.],\n",
    "         [0.],\n",
    "         [0.],\n",
    "         [0.]]"
   ]
  },
  {
   "cell_type": "code",
   "execution_count": 35,
   "metadata": {},
   "outputs": [],
   "source": [
    "import numpy as np\n",
    "ls = np.array(ls)[:,0]"
   ]
  },
  {
   "cell_type": "code",
   "execution_count": 37,
   "metadata": {},
   "outputs": [
    {
     "data": {
      "text/plain": [
       "[10, 25]"
      ]
     },
     "execution_count": 37,
     "metadata": {},
     "output_type": "execute_result"
    }
   ],
   "source": [
    "[i for i, x in enumerate(ls) if x]"
   ]
  },
  {
   "cell_type": "code",
   "execution_count": null,
   "metadata": {},
   "outputs": [],
   "source": []
  }
 ],
 "metadata": {
  "kernelspec": {
   "display_name": "Python 3",
   "language": "python",
   "name": "python3"
  },
  "language_info": {
   "codemirror_mode": {
    "name": "ipython",
    "version": 3
   },
   "file_extension": ".py",
   "mimetype": "text/x-python",
   "name": "python",
   "nbconvert_exporter": "python",
   "pygments_lexer": "ipython3",
   "version": "3.8.8"
  }
 },
 "nbformat": 4,
 "nbformat_minor": 4
}
